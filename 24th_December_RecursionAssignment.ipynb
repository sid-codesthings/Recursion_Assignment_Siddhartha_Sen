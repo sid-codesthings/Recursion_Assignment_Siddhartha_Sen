{
 "cells": [
  {
   "cell_type": "code",
   "execution_count": 6,
   "id": "de651813-1096-4747-b98c-57bc5ee9a0fd",
   "metadata": {},
   "outputs": [],
   "source": [
    "'''\n",
    "Q1. Can you explain the logic and working of the Tower of Hanoi algorithm by writing a Python program? \n",
    "\n",
    "How does the recursion work, and how are the movements of disks between rods accomplished?\n",
    "\n",
    "'''\n",
    "# Tower of Hanoi\n",
    "\n",
    "# Here n represents the no of disks and beg represents the rod at the beginning , mid is the rod in the middle and end is the rod at the end.\n",
    "# The nth disk lies at the bottom.\n",
    "def tower(n , beg , mid , end):\n",
    "    if n == 1 :  # base case condition\n",
    "        print('Move disk from A to C')\n",
    "    else:\n",
    "        tower(n-1 , beg , end , mid)\n",
    "        tower(1 , beg , mid , end)\n",
    "        tower(n-1 , mid , beg , end)\n",
    "    \n",
    "# Logic : step 1 : We are moving n-1 disks from the top at beginning rod to middle rod . \n",
    "#         step 2 : Then we are moving 1 disk from beginning to end rod .\n",
    "#         step 3 : Then We are moving top n-1 disks from middle rod to end rod .\n",
    "\n",
    "\n",
    "# Working, recursion and movements : We will apply the above 3 steps at each recursive call .\n",
    "'''\n",
    "A = Beginning rod , B = Mid Rod , C = End Rod\n",
    "The steps being\n",
    "For n = 3 rods , say , we will apply the above 3 recursive calls on T(3,A,B,C) :\n",
    "T(2,A,C,B) - now beg = A , mid = C , end = B  , -> T(1,A,B,C) means moving disk from A to C , T(1,A,C,B) means moving disk from A to B , T(1,C,A,B) means moving disk from C to B.\n",
    "T(1,A,B,C) - means moving disk from A to C .\n",
    "T(2,B,A,C) - now beg = B , mid = A , end = C , -> T(1,B,C,A) means moving disk from B to A , T(1,B,A,C) means moving disk from B to C , T(1,A,B,C) means moving disk from A to C .\n",
    "\n",
    "\n",
    "So we have total 7 movements to make to shift the pile of disks from rod A to rod C . The movements are :\n",
    "A --> C\n",
    "A --> B\n",
    "C --> B\n",
    "A --> C\n",
    "B --> A\n",
    "B --> C\n",
    "A --> C\n",
    "\n",
    "'''\n"
   ]
  },
  {
   "cell_type": "code",
   "execution_count": 45,
   "id": "363f59e2-3c37-4480-a3f6-d8e679995cc4",
   "metadata": {},
   "outputs": [
    {
     "data": {
      "text/plain": [
       "22"
      ]
     },
     "execution_count": 45,
     "metadata": {},
     "output_type": "execute_result"
    }
   ],
   "source": [
    "'''\n",
    "Q3. Print the max value of the array [ 13, 1, -3, 22, 5].\n",
    "\n",
    "'''\n",
    "\n",
    "def maxval(arr,n):\n",
    "    if n == 1 :\n",
    "        return arr[0]\n",
    "    else:\n",
    "        return max(arr[n-1],maxval(arr,n-1))\n",
    "## Driver Code\n",
    "\n",
    "arr = [ 13, 1, -3, 22, 5]\n",
    "n = len(arr)\n",
    "maxval(arr,n)"
   ]
  },
  {
   "cell_type": "code",
   "execution_count": 47,
   "id": "33eff110-b64c-49e9-90a3-2a14e1ab9cf3",
   "metadata": {},
   "outputs": [
    {
     "data": {
      "text/plain": [
       "120"
      ]
     },
     "execution_count": 47,
     "metadata": {},
     "output_type": "execute_result"
    }
   ],
   "source": [
    "'''\n",
    "Q4. Find the sum of the values of the array [92, 23, 15, -20, 10].\n",
    "\n",
    "'''\n",
    "\n",
    "def sumarray(arr,n):\n",
    "    if n == 1:\n",
    "        return arr[0]\n",
    "    else:\n",
    "        return arr[n-1] + sumarray(arr,n-1)\n",
    "\n",
    "## Driver Code\n",
    "arr = [92, 23, 15, -20, 10]\n",
    "n = len(arr)\n",
    "sumarray(arr,n)"
   ]
  },
  {
   "cell_type": "code",
   "execution_count": 91,
   "id": "53a0c891-b273-40ad-8485-cc6c27a7fcda",
   "metadata": {},
   "outputs": [
    {
     "name": "stdout",
     "output_type": "stream",
     "text": [
      "Yes , Armstrong Number\n"
     ]
    }
   ],
   "source": [
    "'''\n",
    "Q5. Given a number n. Print if it is an armstrong number or not.An armstrong number is a number if the sum \n",
    "of every digit in that number raised to the power of total digits in that number is equal to the number.\n",
    "\n",
    "\n",
    "Example : 153 = 1^3 + 5^3 + 3^3 = 1 + 125 + 27 = 153 hence 153 is an armstrong number. (Easy)\n",
    "\n",
    "\n",
    "Input1 : 153\n",
    "\n",
    "\n",
    "Output1 : Yes\n",
    "\n",
    "\n",
    "\n",
    "Input 2 : 134\n",
    "\n",
    "Output2 : No\n",
    "\n",
    "'''\n",
    "\n",
    "def armstrong(n,no_of_dig):\n",
    "    if n < 10 :\n",
    "        return n**no_of_dig\n",
    "    else:\n",
    "        return (n % 10)**no_of_dig + armstrong((n//10),no_of_dig)\n",
    "    \n",
    "    \n",
    "## Driver Code\n",
    "n = 153\n",
    "no_of_dig = len(str(n))\n",
    "armstrong(n,no_of_dig)\n",
    "if ( n == armstrong(n,no_of_dig)):\n",
    "    print(\"Yes , Armstrong Number\")\n",
    "else:\n",
    "    print(\"No , not an Armstrong number\")"
   ]
  },
  {
   "cell_type": "code",
   "execution_count": 9,
   "id": "3053f9be-f794-41f2-ac83-379286c0be50",
   "metadata": {},
   "outputs": [
    {
     "data": {
      "text/plain": [
       "3"
      ]
     },
     "execution_count": 9,
     "metadata": {},
     "output_type": "execute_result"
    }
   ],
   "source": [
    "'''\n",
    "Q2. Given two strings word1 and word2, return the minimum number of operations required to convert word1 \n",
    "\n",
    "to word2.\n",
    "\n",
    "Example 1:\n",
    "\n",
    " Input: word1 = \"horse\", word2 = \"ros\"\n",
    "\n",
    " Output: 3\n",
    "\n",
    " Explanation: \n",
    "\n",
    " horse -> rorse (replace 'h' with 'r')\n",
    "\n",
    " rorse -> rose (remove 'r')\n",
    "\n",
    " rose -> ros (remove 'e')\n",
    "\n",
    "Example 2:\n",
    "\n",
    " Input: word1 = \"intention\", word2 = \"execution\"\n",
    "\n",
    " Output: 5\n",
    "\n",
    " Explanation: \n",
    "\n",
    " intention -> inention (remove 't')\n",
    "\n",
    " inention -> enention (replace 'i' with 'e')\n",
    "\n",
    " enention -> exention (replace 'n' with 'x')\n",
    "\n",
    " exention -> exection (replace 'n' with 'c')\n",
    "\n",
    " exection -> execution (insert 'u')\n",
    " \n",
    " '''\n",
    "\n",
    "def wordconversion(word1,word2,m,n):\n",
    "    if m == 0 :  # if one of the words become null , the length of the word will be returned because that will be the no of extra operations needed to equalize the strings.\n",
    "        return n\n",
    "    if n == 0 :\n",
    "        return m\n",
    "    if word1[m-1] == word2[n-1]: # if last letters match , then no need of operating on them , we can just carry on with the letters before them .\n",
    "        return wordconversion(word1,word2,m-1,n-1)\n",
    "    else:\n",
    "        return 1 + min(wordconversion(word1,word2,m,n-1),wordconversion(word1,word2,m-1,n-1),wordconversion(word1,word2,m-1,n))\n",
    "        # If we insert a letter at the end , then the value of length stays same for the word1(word to be converted) and the value of length gets decreased by 1 for word2 because\n",
    "        # we have already matched its last letter by insertion in word1.\n",
    "        \n",
    "        # If we replace a letter in word1 , then we have to move on to the letters that are left , so length becomes m-1 and for word2 also the length becomes n-1 .\n",
    "        \n",
    "        # If we delete a letter from word1, then length becomes m-1 but we are not sure whether the new last letter is similar to the last letter of word2 , so length of\n",
    "        # word2 stays same .\n",
    "    \n",
    "## Driver Code\n",
    "word1 = 'horse'\n",
    "word2 = 'ros'\n",
    "wordconversion(word1,word2,len(word1),len(word2))"
   ]
  },
  {
   "cell_type": "code",
   "execution_count": 11,
   "id": "8510dec6-8d9c-4b37-abd7-0d2492681330",
   "metadata": {},
   "outputs": [
    {
     "data": {
      "text/plain": [
       "5"
      ]
     },
     "execution_count": 11,
     "metadata": {},
     "output_type": "execute_result"
    }
   ],
   "source": [
    "word3 = 'intention'\n",
    "word4 = 'execution'\n",
    "wordconversion(word3,word4,len(word3),len(word4))"
   ]
  }
 ],
 "metadata": {
  "kernelspec": {
   "display_name": "Python 3 (ipykernel)",
   "language": "python",
   "name": "python3"
  },
  "language_info": {
   "codemirror_mode": {
    "name": "ipython",
    "version": 3
   },
   "file_extension": ".py",
   "mimetype": "text/x-python",
   "name": "python",
   "nbconvert_exporter": "python",
   "pygments_lexer": "ipython3",
   "version": "3.10.8"
  }
 },
 "nbformat": 4,
 "nbformat_minor": 5
}
